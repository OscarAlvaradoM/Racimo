{
 "cells": [
  {
   "cell_type": "code",
   "execution_count": 5,
   "metadata": {},
   "outputs": [],
   "source": [
    "using PiGPIO\n",
    "pin = 4\n",
    "\n",
    "p = Pi()\n",
    "set_mode(p, pin, PiGPIO.OUTPUT)\n",
    "\n",
    "try\n",
    "    for i in 1:10\n",
    "        PiGPIO.write(p, pin, PiGPIO.ON)\n",
    "        sleep(0.5)\n",
    "        PiGPIO.write(p, pin, PiGPIO.ON)\n",
    "        sleep(0.5)\n",
    "    end\n",
    "finally\n",
    "    println(\"Listo\")\n",
    "    set_mode(p, pin, PiGPIO.INPUT)\n",
    "end"
   ]
  },
  {
   "cell_type": "code",
   "execution_count": null,
   "metadata": {},
   "outputs": [],
   "source": []
  }
 ],
 "metadata": {
  "kernelspec": {
   "display_name": "Julia 1.0.3",
   "language": "julia",
   "name": "julia-1.0"
  },
  "language_info": {
   "file_extension": ".jl",
   "mimetype": "application/julia",
   "name": "julia",
   "version": "1.0.3"
  }
 },
 "nbformat": 4,
 "nbformat_minor": 4
}
